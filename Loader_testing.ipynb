{
 "cells": [
  {
   "cell_type": "code",
   "execution_count": 1,
   "id": "99e902e3-80b7-4e6d-88fd-47b5ac84dcb1",
   "metadata": {
    "ExecuteTime": {
     "end_time": "2025-03-24T08:33:45.769918Z",
     "start_time": "2025-03-24T08:33:45.765047Z"
    }
   },
   "outputs": [],
   "source": [
    "###玻片装载器设备自检测试\n",
    "from Drives.loadercontroller import LoaderController\n",
    "oil = False\n",
    "if oil :\n",
    "    Loader = LoaderController(  'COM20',  'COM5',True)\n",
    "else :\n",
    "    Loader = LoaderController( 'COM20',  'COM5',False)"
   ]
  },
  {
   "cell_type": "code",
   "execution_count": 2,
   "id": "ae712d2b-e718-4ed8-a239-b2ad07303d51",
   "metadata": {
    "ExecuteTime": {
     "end_time": "2025-03-24T08:33:46.495121Z",
     "start_time": "2025-03-24T08:33:46.491828Z"
    }
   },
   "outputs": [],
   "source": [
    "# 装载器复位\n",
    "Loader.reset_xyz()"
   ]
  },
  {
   "cell_type": "code",
   "execution_count": null,
   "id": "3e53ac815b28e2b7",
   "metadata": {
    "collapsed": false,
    "jupyter": {
     "outputs_hidden": false
    }
   },
   "outputs": [],
   "source": [
    "# 移动检查\n",
    "Loader.set_delivery_abs_x(200)\n",
    "Loader.set_delivery_abs_z(60)\n",
    "Loader.set_delivery_abs_x(0)\n",
    "Loader.set_delivery_abs_z(0)"
   ]
  },
  {
   "cell_type": "code",
   "execution_count": null,
   "id": "c9374ed687230a56",
   "metadata": {
    "collapsed": false,
    "jupyter": {
     "outputs_hidden": false
    }
   },
   "outputs": [],
   "source": [
    "# 滴油测试\n",
    "Loader.user_pump_test()"
   ]
  }
 ],
 "metadata": {
  "kernelspec": {
   "display_name": "roboscope",
   "language": "python",
   "name": "roboscope"
  },
  "language_info": {
   "codemirror_mode": {
    "name": "ipython",
    "version": 3
   },
   "file_extension": ".py",
   "mimetype": "text/x-python",
   "name": "python",
   "nbconvert_exporter": "python",
   "pygments_lexer": "ipython3",
   "version": "3.11.9"
  }
 },
 "nbformat": 4,
 "nbformat_minor": 5
}
