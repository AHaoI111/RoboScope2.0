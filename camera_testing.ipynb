{
 "cells": [
  {
   "cell_type": "code",
   "execution_count": 1,
   "id": "99e902e3-80b7-4e6d-88fd-47b5ac84dcb1",
   "metadata": {
    "ExecuteTime": {
     "end_time": "2025-03-24T08:33:45.769918Z",
     "start_time": "2025-03-24T08:33:45.765047Z"
    }
   },
   "outputs": [
    {
     "name": "stdout",
     "output_type": "stream",
     "text": [
      "load machine-specific configuration\n",
      "read config\n"
     ]
    }
   ],
   "source": [
    "##相机自检测试\n",
    "import re\n",
    "Version = 'V2' ###V1\n",
    "if Version == 'V1':\n",
    "    import control.core_V1 as core\n",
    "elif Version == 'V2':\n",
    "    import control.core_V2 as core\n",
    "configurationManager = core.ConfigurationManager('./channel_configurations.xml')\n",
    "from Drives.camera import Camera\n",
    "number_camera = 2\n",
    "if number_camera == 1:\n",
    "    camera = Camera(rotate_image_angle=0)\n",
    "    camera.open()\n",
    "elif number_camera == 2:\n",
    "    configuration1 = configurationManager.configurations[0]\n",
    "    configuration2 = configurationManager.configurations[1]\n",
    "    camera1 = Camera(sn=configuration1.camera_sn,rotate_image_angle=0)\n",
    "    camera1.open()\n",
    "    camera2 = Camera(sn=configuration2.camera_sn,rotate_image_angle=0)\n",
    "    camera2.open()"
   ]
  },
  {
   "cell_type": "code",
   "execution_count": 2,
   "id": "ae712d2b-e718-4ed8-a239-b2ad07303d51",
   "metadata": {
    "ExecuteTime": {
     "end_time": "2025-03-24T08:33:46.495121Z",
     "start_time": "2025-03-24T08:33:46.491828Z"
    }
   },
   "outputs": [
    {
     "ename": "NameError",
     "evalue": "name 're' is not defined",
     "output_type": "error",
     "traceback": [
      "\u001b[1;31m---------------------------------------------------------------------------\u001b[0m",
      "\u001b[1;31mNameError\u001b[0m                                 Traceback (most recent call last)",
      "Cell \u001b[1;32mIn[2], line 22\u001b[0m\n\u001b[0;32m     20\u001b[0m         \u001b[38;5;28mprint\u001b[39m(\u001b[38;5;124m'\u001b[39m\u001b[38;5;124m相机检测成功\u001b[39m\u001b[38;5;124m'\u001b[39m)\n\u001b[0;32m     21\u001b[0m \u001b[38;5;28;01melif\u001b[39;00m number_camera \u001b[38;5;241m==\u001b[39m \u001b[38;5;241m2\u001b[39m:\n\u001b[1;32m---> 22\u001b[0m     letters_only \u001b[38;5;241m=\u001b[39m re\u001b[38;5;241m.\u001b[39msub(\u001b[38;5;124mr\u001b[39m\u001b[38;5;124m'\u001b[39m\u001b[38;5;124m\\\u001b[39m\u001b[38;5;124md+\u001b[39m\u001b[38;5;124m'\u001b[39m, \u001b[38;5;124m'\u001b[39m\u001b[38;5;124m'\u001b[39m, configuration1\u001b[38;5;241m.\u001b[39mcamera_sn)\n\u001b[0;32m     23\u001b[0m     \u001b[38;5;28;01mif\u001b[39;00m letters_only \u001b[38;5;241m==\u001b[39m \u001b[38;5;124m'\u001b[39m\u001b[38;5;124mFCU\u001b[39m\u001b[38;5;124m'\u001b[39m:\n\u001b[0;32m     24\u001b[0m         camera1\u001b[38;5;241m.\u001b[39mset_wb_ratios(\u001b[38;5;241m1\u001b[39m,\u001b[38;5;241m1\u001b[39m,\u001b[38;5;241m1\u001b[39m)\n",
      "\u001b[1;31mNameError\u001b[0m: name 're' is not defined"
     ]
    }
   ],
   "source": [
    "# 设置相机白平衡\n",
    "if number_camera == 1:\n",
    "    configuration = configurationManager.configurations[0]\n",
    "    letters_only = re.sub(r'\\d+', '', configuration.camera_sn)\n",
    "    if letters_only == 'FCU':\n",
    "        camera.set_wb_ratios(1,1,1)\n",
    "    # 设置拍摄区域\n",
    "    offset_x = (732 // 8) * 8\n",
    "    offset_y = (238 // 8) * 8\n",
    "    camera.set_ROI(offset_x, offset_y, 2560, 2560)\n",
    "    # 设置曝光时间和增益\n",
    "    camera.set_exposure_time(configuration.exposure_time)\n",
    "    camera.set_analog_gain(configuration.analog_gain)\n",
    "    # 启用软件触发拍摄\n",
    "    camera.set_software_triggered_acquisition()\n",
    "    camera.start_streaming()\n",
    "    camera.send_trigger()\n",
    "    img = camera.read_frame()\n",
    "    if img is not None:\n",
    "        print('相机检测成功')\n",
    "elif number_camera == 2:\n",
    "    letters_only = re.sub(r'\\d+', '', configuration1.camera_sn)\n",
    "    if letters_only == 'FCU':\n",
    "        camera1.set_wb_ratios(1,1,1)\n",
    "    # 设置拍摄区域\n",
    "    offset_x = (732 // 8) * 8\n",
    "    offset_y = (238 // 8) * 8\n",
    "    camera1.set_ROI(offset_x, offset_y, 2560, 2560)\n",
    "    # 设置曝光时间和增益\n",
    "    camera1.set_exposure_time(configuration1.exposure_time)\n",
    "    camera1.set_analog_gain(configuration1.analog_gain)\n",
    "    # 启用软件触发拍摄\n",
    "    camera1.set_software_triggered_acquisition()\n",
    "    camera1.start_streaming()\n",
    "    camera1.send_trigger()\n",
    "    img = camera1.read_frame()\n",
    "    if img is not None:\n",
    "        print('相机1检测成功')\n",
    "    letters_only = re.sub(r'\\d+', '', configuration2.camera_sn)\n",
    "    if letters_only == 'FCU':\n",
    "        camera2.set_wb_ratios(1,1,1)\n",
    "    # 设置拍摄区域\n",
    "    offset_x = (732 // 8) * 8\n",
    "    offset_y = (238 // 8) * 8\n",
    "    camera2.set_ROI(offset_x, offset_y, 2560, 2560)\n",
    "    # 设置曝光时间和增益\n",
    "    camera2.set_exposure_time(configuration2.exposure_time)\n",
    "    camera2.set_analog_gain(configuration2.analog_gain)\n",
    "    # 启用软件触发拍摄\n",
    "    camera2.set_software_triggered_acquisition()\n",
    "    camera2.start_streaming()\n",
    "    camera2.send_trigger()\n",
    "    img = camera2.read_frame()\n",
    "    if img is not None:\n",
    "        print('相机2检测成功')\n",
    "    \n"
   ]
  },
  {
   "cell_type": "code",
   "execution_count": null,
   "id": "c07e48c4-2122-4d71-9d7f-f495ca8f8d9f",
   "metadata": {},
   "outputs": [],
   "source": []
  }
 ],
 "metadata": {
  "kernelspec": {
   "display_name": "roboscope",
   "language": "python",
   "name": "roboscope"
  },
  "language_info": {
   "codemirror_mode": {
    "name": "ipython",
    "version": 3
   },
   "file_extension": ".py",
   "mimetype": "text/x-python",
   "name": "python",
   "nbconvert_exporter": "python",
   "pygments_lexer": "ipython3",
   "version": "3.11.9"
  }
 },
 "nbformat": 4,
 "nbformat_minor": 5
}
