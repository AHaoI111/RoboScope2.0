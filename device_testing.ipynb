{
 "cells": [
  {
   "cell_type": "code",
   "execution_count": 1,
   "id": "99e902e3-80b7-4e6d-88fd-47b5ac84dcb1",
   "metadata": {
    "ExecuteTime": {
     "end_time": "2025-03-24T08:33:45.769918Z",
     "start_time": "2025-03-24T08:33:45.765047Z"
    }
   },
   "outputs": [],
   "source": [
    "###显微镜设备自检测试\n",
    "import time\n",
    "Version = 'V2' ###V1\n",
    "if Version == 'V1':\n",
    "    from Drives.microcontroller_V1 import Microcontroller\n",
    "    import control.core_V1 as core\n",
    "    from Drives._def_V1 import *\n",
    "elif Version == 'V2':\n",
    "    from Drives.microcontroller_V2 import Microcontroller\n",
    "    import control.core_V2 as core\n",
    "    from Drives._def_V2 import *\n",
    "# 初始化显微镜控制器\n",
    "microcontroller = Microcontroller(COM='COM1')\n",
    "# 重置显微镜控制器\n",
    "microcontroller.reset()\n",
    "# 初始化马达驱动\n",
    "microcontroller.initialize_drivers()\n",
    "# 配置执行器\n",
    "microcontroller.configure_actuators()\n",
    "print(显微镜初始化成功)"
   ]
  },
  {
   "cell_type": "code",
   "execution_count": 2,
   "id": "ae712d2b-e718-4ed8-a239-b2ad07303d51",
   "metadata": {
    "ExecuteTime": {
     "end_time": "2025-03-24T08:33:46.495121Z",
     "start_time": "2025-03-24T08:33:46.491828Z"
    }
   },
   "outputs": [],
   "source": [
    "# 初始化导航控制器\n",
    "navigationController = core.NavigationController(microcontroller)\n",
    "# 将Z轴归零\n",
    "navigationController.home_z()\n",
    "# 等待Z轴归零完成\n",
    "t0 = time.time()\n",
    "while microcontroller.is_busy():\n",
    "    time.sleep(0.005)\n",
    "    if time.time() - t0 > 8:\n",
    "        print('Z轴归零超时')\n",
    "        break"
   ]
  },
  {
   "cell_type": "code",
   "execution_count": null,
   "id": "aea2122b-6b6c-4a46-a45f-bb83adbb7e72",
   "metadata": {},
   "outputs": [],
   "source": [
    "# 将X轴归零\n",
    "t0 = time.time()\n",
    "navigationController.home_x()\n",
    "# 等待X轴归零完成\n",
    "while microcontroller.is_busy():\n",
    "    time.sleep(0.005)\n",
    "    if time.time() - t0 > 8:\n",
    "        print('X轴归零超时')\n",
    "        break"
   ]
  },
  {
   "cell_type": "code",
   "execution_count": 3,
   "id": "05dd30a8-0627-4aa2-bfa8-a13d7e9be7b8",
   "metadata": {
    "ExecuteTime": {
     "end_time": "2025-03-24T08:33:50.712012Z",
     "start_time": "2025-03-24T08:33:50.709651Z"
    }
   },
   "outputs": [],
   "source": [
    "# 将Y轴归零\n",
    "t0 = time.time()\n",
    "navigationController.home_y()\n",
    "# 等待Y轴归零完成\n",
    "while microcontroller.is_busy():\n",
    "    time.sleep(0.005)\n",
    "    if time.time() - t0 > 8:\n",
    "        print('Y轴归零超时')\n",
    "        break"
   ]
  },
  {
   "cell_type": "code",
   "outputs": [],
   "source": [
    "### 配置PID设置\n",
    "if Version == 'V1':\n",
    "    # 根据配置信息，条件性地配置编码器\n",
    "    if HAS_ENCODER_X == True:\n",
    "        navigationController.configure_encoder(0, (SCREW_PITCH_X_MM * 1000) / ENCODER_RESOLUTION_UM_X,\n",
    "                                                            ENCODER_FLIP_DIR_X)\n",
    "    if HAS_ENCODER_Y == True:\n",
    "        navigationController.configure_encoder(1, (SCREW_PITCH_Y_MM * 1000) / ENCODER_RESOLUTION_UM_Y,\n",
    "                                                            ENCODER_FLIP_DIR_Y)\n",
    "    if HAS_ENCODER_Z == True:\n",
    "        navigationController.configure_encoder(2, (SCREW_PITCH_Z_MM * 1000) / ENCODER_RESOLUTION_UM_Z,\n",
    "                                                            ENCODER_FLIP_DIR_Z)\n",
    "    # 启用PID控制\n",
    "    navigationController.set_pid_control_enable(0, ENABLE_PID_X)\n",
    "    navigationController.set_pid_control_enable(1, ENABLE_PID_Y)\n",
    "    navigationController.set_pid_control_enable(2, ENABLE_PID_Z)\n",
    "    time.sleep(0.5)\n",
    "elif Version == 'V2':\n",
    "    # 根据配置信息，条件性地配置编码器\n",
    "    if HAS_ENCODER_X == True:\n",
    "        navigationController.set_axis_PID_arguments(0, PID_P_X, PID_I_X, PID_D_X)\n",
    "        navigationController.configure_encoder(0, (SCREW_PITCH_X_MM * 1000) / ENCODER_RESOLUTION_UM_X,\n",
    "                                                            ENCODER_FLIP_DIR_X)\n",
    "        navigationController.set_pid_control_enable(0, ENABLE_PID_X)\n",
    "        if HAS_ENCODER_Y == True:\n",
    "            navigationController.set_axis_PID_arguments(1, PID_P_Y, PID_I_Y, PID_D_Y)\n",
    "            navigationController.configure_encoder(1, (SCREW_PITCH_Y_MM * 1000) / ENCODER_RESOLUTION_UM_Y,\n",
    "                                                            ENCODER_FLIP_DIR_Y)\n",
    "            navigationController.set_pid_control_enable(1, ENABLE_PID_Y)\n",
    "        if HAS_ENCODER_Z == True:\n",
    "            navigationController.set_axis_PID_arguments(2, PID_P_Z, PID_I_Z, PID_D_Z)\n",
    "            navigationController.configure_encoder(2, (SCREW_PITCH_Z_MM * 1000) / ENCODER_RESOLUTION_UM_Z,\n",
    "                                                            ENCODER_FLIP_DIR_Z)\n",
    "            navigationController.set_pid_control_enable(2, ENABLE_PID_Z)\n",
    "    time.sleep(0.5)"
   ],
   "metadata": {
    "collapsed": false
   },
   "id": "53d68c1b8f8afbd6"
  },
  {
   "cell_type": "code",
   "outputs": [],
   "source": [
    "# 设置软件限位\n",
    "# set software limit\n",
    "navigationController.set_x_limit_pos_mm(SOFTWARE_POS_LIMIT.X_POSITIVE)\n",
    "navigationController.set_x_limit_neg_mm(SOFTWARE_POS_LIMIT.X_NEGATIVE)\n",
    "navigationController.set_y_limit_pos_mm(SOFTWARE_POS_LIMIT.Y_POSITIVE)\n",
    "navigationController.set_y_limit_neg_mm(SOFTWARE_POS_LIMIT.Y_NEGATIVE)\n",
    "navigationController.set_z_limit_pos_mm(SOFTWARE_POS_LIMIT.Z_POSITIVE)"
   ],
   "metadata": {
    "collapsed": false
   },
   "id": "3e53ac815b28e2b7"
  },
  {
   "cell_type": "code",
   "outputs": [],
   "source": [
    "# 移动检查\n",
    "navigationController.move_x_to(8)\n",
    "while microcontroller.is_busy():\n",
    "    time.sleep(0.005)\n",
    "navigationController.move_y_to(8)\n",
    "while microcontroller.is_busy():\n",
    "    time.sleep(0.005)\n",
    "navigationController.home_z()\n",
    "while microcontroller.is_busy():\n",
    "    time.sleep(0.005)\n",
    "navigationController.home_xy()\n",
    "while microcontroller.is_busy():\n",
    "    time.sleep(0.005)"
   ],
   "metadata": {
    "collapsed": false
   },
   "id": "f1ee03714d4cad62"
  },
  {
   "cell_type": "code",
   "outputs": [],
   "source": [
    "configurationManager = core.ConfigurationManager('./channel_configurations.xml')\n",
    "from Drives.camera import Camera\n",
    "if number_camera == 1:\n",
    "    camera = Camera(rotate_image_angle=0)\n",
    "    camera.open()\n",
    "elif number_camera == 2:\n",
    "    configuration1 = configurationManager.configurations[0]\n",
    "    configuration2 = configurationManager.configurations[1]\n",
    "    camera1 = Camera(sn=configuration1.camera_sn,rotate_image_angle=0)\n",
    "    camera1.open()\n",
    "    camera2 = Camera(sn=configuration2.camera_sn,rotate_image_angle=0)\n",
    "    camera2.open()"
   ],
   "metadata": {
    "collapsed": false
   },
   "id": "99a02041f3cd2e4a"
  },
  {
   "cell_type": "code",
   "outputs": [],
   "source": [
    "# 设置相机白平衡\n",
    "if number_camera == 1:\n",
    "    configuration = configurationManager.configurations[0]\n",
    "    letters_only = re.sub(r'\\d+', '', configuration.camera_sn)\n",
    "    if letters_only == 'FCU':\n",
    "        camera.set_wb_ratios(1,1,1)\n",
    "    # 设置拍摄区域\n",
    "    offset_x = (732 // 8) * 8\n",
    "    offset_y = (238 // 8) * 8\n",
    "    camera.set_ROI(offset_x, offset_y, 2560, 2560)\n",
    "    # 设置曝光时间和增益\n",
    "    camera.set_exposure_time(configuration.exposure_time)\n",
    "    camera.set_analog_gain(configuration.analog_gain)\n",
    "    # 启用软件触发拍摄\n",
    "    camera.set_software_triggered_acquisition()\n",
    "    camera.start_streaming()\n",
    "    camera.send_trigger()\n",
    "    img = camera.read_frame()\n",
    "    if img is not None:\n",
    "        print('相机检测成功')\n",
    "elif number_camera == 2:\n",
    "    letters_only = re.sub(r'\\d+', '', configuration1.camera_sn)\n",
    "    if letters_only == 'FCU':\n",
    "        camera1.set_wb_ratios(1,1,1)\n",
    "    # 设置拍摄区域\n",
    "    offset_x = (732 // 8) * 8\n",
    "    offset_y = (238 // 8) * 8\n",
    "    camera1.set_ROI(offset_x, offset_y, 2560, 2560)\n",
    "    # 设置曝光时间和增益\n",
    "    camera1.set_exposure_time(configuration1.exposure_time)\n",
    "    camera1.set_analog_gain(configuration1.analog_gain)\n",
    "    # 启用软件触发拍摄\n",
    "    camera1.set_software_triggered_acquisition()\n",
    "    camera1.start_streaming()\n",
    "    camera1.send_trigger()\n",
    "    img = camera1.read_frame()\n",
    "    if img is not None:\n",
    "        print('相机1检测成功')\n",
    "    letters_only = re.sub(r'\\d+', '', configuration2.camera_sn)\n",
    "    if letters_only == 'FCU':\n",
    "        camera2.set_wb_ratios(1,1,1)\n",
    "    # 设置拍摄区域\n",
    "    offset_x = (732 // 8) * 8\n",
    "    offset_y = (238 // 8) * 8\n",
    "    camera2.set_ROI(offset_x, offset_y, 2560, 2560)\n",
    "    # 设置曝光时间和增益\n",
    "    camera2.set_exposure_time(configuration2.exposure_time)\n",
    "    camera2.set_analog_gain(configuration2.analog_gain)\n",
    "    # 启用软件触发拍摄\n",
    "    camera2.set_software_triggered_acquisition()\n",
    "    camera2.start_streaming()\n",
    "    camera2.send_trigger()\n",
    "    img = camera2.read_frame()\n",
    "    if img is not None:\n",
    "        print('相机2检测成功')"
   ],
   "metadata": {
    "collapsed": false
   },
   "id": "66a00f2960d325be"
  },
  {
   "cell_type": "code",
   "outputs": [],
   "source": [
    "###玻片装载器设备自检测试\n",
    "from Drives.loadercontroller import LoaderController\n",
    "oil = True\n",
    "if oil :\n",
    "    Loader = LoaderController(port = 'COM2', port_oil = 'COM3',True)\n",
    "else :\n",
    "    Loader = LoaderController(port = 'COM2', port_oil = 'COM3',False)"
   ],
   "metadata": {
    "collapsed": false
   },
   "id": "1639cd5ee8f50d78"
  },
  {
   "cell_type": "code",
   "outputs": [],
   "source": [
    "# 装载器复位\n",
    "Loader.reset_xyz()"
   ],
   "metadata": {
    "collapsed": false
   },
   "id": "bd10a7384d8b5c88"
  },
  {
   "cell_type": "code",
   "outputs": [],
   "source": [
    "# 移动检查\n",
    "Loader.set_delivery_abs_x(200)\n",
    "Loader.set_delivery_abs_z(60)\n",
    "Loader.set_delivery_abs_x(0)\n",
    "Loader.set_delivery_abs_z(0)"
   ],
   "metadata": {
    "collapsed": false
   },
   "id": "e5ce88a4fad14607"
  },
  {
   "cell_type": "code",
   "outputs": [],
   "source": [
    "# 滴油测试\n",
    "Loader.user_pump_test()"
   ],
   "metadata": {
    "collapsed": false
   },
   "id": "e910fdf4e161a1da"
  }
 ],
 "metadata": {
  "kernelspec": {
   "name": "roboscope",
   "language": "python",
   "display_name": "roboscope"
  },
  "language_info": {
   "codemirror_mode": {
    "name": "ipython",
    "version": 3
   },
   "file_extension": ".py",
   "mimetype": "text/x-python",
   "name": "python",
   "nbconvert_exporter": "python",
   "pygments_lexer": "ipython3",
   "version": "3.11.11"
  }
 },
 "nbformat": 4,
 "nbformat_minor": 5
}
